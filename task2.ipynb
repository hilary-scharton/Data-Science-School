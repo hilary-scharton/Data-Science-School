{
 "cells": [
  {
   "cell_type": "code",
   "execution_count": null,
   "metadata": {},
   "outputs": [],
   "source": [
    "L2T14\n",
    "\n",
    "1.  linear regressions will require the hours and grades to be scaled to prevent one of the categories from\n",
    "overshadowing the other with its magnitude.  \n",
    "2. same argument for scaling with the exercises.  however, if the different forms are on a normal curve, \n",
    "normalization has benefits, also.  no real hard and fast rule.  it might be best to look at your data raw, \n",
    "normalized, and scaled to see what happens so you can make the best decisions."
   ]
  },
  {
   "cell_type": "code",
   "execution_count": 77,
   "metadata": {},
   "outputs": [
    {
     "data": {
      "text/html": [
       "<div>\n",
       "<style scoped>\n",
       "    .dataframe tbody tr th:only-of-type {\n",
       "        vertical-align: middle;\n",
       "    }\n",
       "\n",
       "    .dataframe tbody tr th {\n",
       "        vertical-align: top;\n",
       "    }\n",
       "\n",
       "    .dataframe thead th {\n",
       "        text-align: right;\n",
       "    }\n",
       "</style>\n",
       "<table border=\"1\" class=\"dataframe\">\n",
       "  <thead>\n",
       "    <tr style=\"text-align: right;\">\n",
       "      <th></th>\n",
       "      <th>ï»¿Country</th>\n",
       "      <th>Country Groups</th>\n",
       "      <th>BX.KLT.DINV.WD.GD.ZS</th>\n",
       "      <th>EG.ELC.ACCS.ZS</th>\n",
       "      <th>EG.FEC.RNEW.ZS</th>\n",
       "      <th>EN.ATM.CO2E.PC</th>\n",
       "      <th>FP.CPI.TOTL.ZG</th>\n",
       "      <th>IT.CEL.SETS.P2</th>\n",
       "      <th>IT.NET.USER.ZS</th>\n",
       "      <th>NE.EXP.GNFS.ZS</th>\n",
       "      <th>...</th>\n",
       "      <th>NY.GDP.PCAP.CD</th>\n",
       "      <th>SP.DYN.AMRT.FE</th>\n",
       "      <th>SP.DYN.AMRT.MA</th>\n",
       "      <th>SP.DYN.CBRT.IN</th>\n",
       "      <th>SP.DYN.CDRT.IN</th>\n",
       "      <th>SP.DYN.IMRT.IN</th>\n",
       "      <th>SP.DYN.LE00.IN</th>\n",
       "      <th>SP.DYN.TFRT.IN</th>\n",
       "      <th>SP.POP.GROW</th>\n",
       "      <th>SP.URB.TOTL.IN.ZS</th>\n",
       "    </tr>\n",
       "  </thead>\n",
       "  <tbody>\n",
       "    <tr>\n",
       "      <th>0</th>\n",
       "      <td>CEB</td>\n",
       "      <td>Central Europe and the Baltics</td>\n",
       "      <td>1.555790</td>\n",
       "      <td>100.000000</td>\n",
       "      <td>14.538355</td>\n",
       "      <td>6.820042</td>\n",
       "      <td>1.840965</td>\n",
       "      <td>122.192106</td>\n",
       "      <td>58.599297</td>\n",
       "      <td>52.333390</td>\n",
       "      <td>...</td>\n",
       "      <td>12567.128310</td>\n",
       "      <td>77.039930</td>\n",
       "      <td>189.578062</td>\n",
       "      <td>10.543330</td>\n",
       "      <td>11.429917</td>\n",
       "      <td>6.019183</td>\n",
       "      <td>75.295349</td>\n",
       "      <td>1.465325</td>\n",
       "      <td>-0.362710</td>\n",
       "      <td>62.059417</td>\n",
       "    </tr>\n",
       "    <tr>\n",
       "      <th>1</th>\n",
       "      <td>CSS</td>\n",
       "      <td>Caribbean small states</td>\n",
       "      <td>4.658176</td>\n",
       "      <td>93.114511</td>\n",
       "      <td>9.096342</td>\n",
       "      <td>9.277109</td>\n",
       "      <td>3.250344</td>\n",
       "      <td>113.628493</td>\n",
       "      <td>35.407690</td>\n",
       "      <td>44.935642</td>\n",
       "      <td>...</td>\n",
       "      <td>8726.326154</td>\n",
       "      <td>121.928584</td>\n",
       "      <td>200.568068</td>\n",
       "      <td>17.555646</td>\n",
       "      <td>7.436407</td>\n",
       "      <td>18.406085</td>\n",
       "      <td>72.252392</td>\n",
       "      <td>2.151960</td>\n",
       "      <td>0.642147</td>\n",
       "      <td>42.083135</td>\n",
       "    </tr>\n",
       "    <tr>\n",
       "      <th>2</th>\n",
       "      <td>EAP</td>\n",
       "      <td>East Asia &amp; Pacific (excluding high income)</td>\n",
       "      <td>3.796483</td>\n",
       "      <td>94.997330</td>\n",
       "      <td>16.471817</td>\n",
       "      <td>5.106045</td>\n",
       "      <td>3.789836</td>\n",
       "      <td>69.905604</td>\n",
       "      <td>28.957482</td>\n",
       "      <td>30.572597</td>\n",
       "      <td>...</td>\n",
       "      <td>4007.323783</td>\n",
       "      <td>91.717833</td>\n",
       "      <td>134.835195</td>\n",
       "      <td>14.439063</td>\n",
       "      <td>7.019396</td>\n",
       "      <td>19.100000</td>\n",
       "      <td>73.482345</td>\n",
       "      <td>1.843869</td>\n",
       "      <td>0.713160</td>\n",
       "      <td>47.696831</td>\n",
       "    </tr>\n",
       "    <tr>\n",
       "      <th>3</th>\n",
       "      <td>EAR</td>\n",
       "      <td>Early-demographic dividend</td>\n",
       "      <td>2.073571</td>\n",
       "      <td>79.455104</td>\n",
       "      <td>26.481427</td>\n",
       "      <td>2.119827</td>\n",
       "      <td>4.580200</td>\n",
       "      <td>68.069446</td>\n",
       "      <td>12.835425</td>\n",
       "      <td>27.711023</td>\n",
       "      <td>...</td>\n",
       "      <td>2926.483907</td>\n",
       "      <td>150.595639</td>\n",
       "      <td>214.978616</td>\n",
       "      <td>22.914627</td>\n",
       "      <td>7.028941</td>\n",
       "      <td>40.042149</td>\n",
       "      <td>67.955732</td>\n",
       "      <td>2.763140</td>\n",
       "      <td>1.534541</td>\n",
       "      <td>42.113134</td>\n",
       "    </tr>\n",
       "    <tr>\n",
       "      <th>4</th>\n",
       "      <td>EAS</td>\n",
       "      <td>East Asia &amp; Pacific</td>\n",
       "      <td>2.930966</td>\n",
       "      <td>95.496185</td>\n",
       "      <td>13.729447</td>\n",
       "      <td>5.701783</td>\n",
       "      <td>3.247588</td>\n",
       "      <td>73.657018</td>\n",
       "      <td>34.269800</td>\n",
       "      <td>32.153225</td>\n",
       "      <td>...</td>\n",
       "      <td>7674.475705</td>\n",
       "      <td>86.702958</td>\n",
       "      <td>130.465277</td>\n",
       "      <td>13.880915</td>\n",
       "      <td>7.095146</td>\n",
       "      <td>18.136433</td>\n",
       "      <td>74.383915</td>\n",
       "      <td>1.797065</td>\n",
       "      <td>0.675231</td>\n",
       "      <td>51.791229</td>\n",
       "    </tr>\n",
       "  </tbody>\n",
       "</table>\n",
       "<p>5 rows × 21 columns</p>\n",
       "</div>"
      ],
      "text/plain": [
       "  ï»¿Country                               Country Groups  \\\n",
       "0        CEB               Central Europe and the Baltics   \n",
       "1        CSS                       Caribbean small states   \n",
       "2        EAP  East Asia & Pacific (excluding high income)   \n",
       "3        EAR                   Early-demographic dividend   \n",
       "4        EAS                          East Asia & Pacific   \n",
       "\n",
       "   BX.KLT.DINV.WD.GD.ZS  EG.ELC.ACCS.ZS  EG.FEC.RNEW.ZS  EN.ATM.CO2E.PC  \\\n",
       "0              1.555790      100.000000       14.538355        6.820042   \n",
       "1              4.658176       93.114511        9.096342        9.277109   \n",
       "2              3.796483       94.997330       16.471817        5.106045   \n",
       "3              2.073571       79.455104       26.481427        2.119827   \n",
       "4              2.930966       95.496185       13.729447        5.701783   \n",
       "\n",
       "   FP.CPI.TOTL.ZG  IT.CEL.SETS.P2  IT.NET.USER.ZS  NE.EXP.GNFS.ZS  ...  \\\n",
       "0        1.840965      122.192106       58.599297       52.333390  ...   \n",
       "1        3.250344      113.628493       35.407690       44.935642  ...   \n",
       "2        3.789836       69.905604       28.957482       30.572597  ...   \n",
       "3        4.580200       68.069446       12.835425       27.711023  ...   \n",
       "4        3.247588       73.657018       34.269800       32.153225  ...   \n",
       "\n",
       "   NY.GDP.PCAP.CD  SP.DYN.AMRT.FE  SP.DYN.AMRT.MA  SP.DYN.CBRT.IN  \\\n",
       "0    12567.128310       77.039930      189.578062       10.543330   \n",
       "1     8726.326154      121.928584      200.568068       17.555646   \n",
       "2     4007.323783       91.717833      134.835195       14.439063   \n",
       "3     2926.483907      150.595639      214.978616       22.914627   \n",
       "4     7674.475705       86.702958      130.465277       13.880915   \n",
       "\n",
       "   SP.DYN.CDRT.IN  SP.DYN.IMRT.IN  SP.DYN.LE00.IN  SP.DYN.TFRT.IN  \\\n",
       "0       11.429917        6.019183       75.295349        1.465325   \n",
       "1        7.436407       18.406085       72.252392        2.151960   \n",
       "2        7.019396       19.100000       73.482345        1.843869   \n",
       "3        7.028941       40.042149       67.955732        2.763140   \n",
       "4        7.095146       18.136433       74.383915        1.797065   \n",
       "\n",
       "   SP.POP.GROW  SP.URB.TOTL.IN.ZS  \n",
       "0    -0.362710          62.059417  \n",
       "1     0.642147          42.083135  \n",
       "2     0.713160          47.696831  \n",
       "3     1.534541          42.113134  \n",
       "4     0.675231          51.791229  \n",
       "\n",
       "[5 rows x 21 columns]"
      ]
     },
     "execution_count": 77,
     "metadata": {},
     "output_type": "execute_result"
    }
   ],
   "source": [
    "# from the countries dataset, standardize the sp... column and visualize the data\n",
    "\n",
    "import pandas as pd\n",
    "import numpy as np\n",
    "import sklearn\n",
    "\n",
    "from sklearn import preprocessing\n",
    "from sklearn.preprocessing import StandardScaler\n",
    "\n",
    "# fetch the data\n",
    "df = pd.read_csv('countries.csv', encoding='unicode_escape')\n",
    "df.head()\n",
    "\n"
   ]
  },
  {
   "cell_type": "code",
   "execution_count": 11,
   "metadata": {},
   "outputs": [
    {
     "data": {
      "text/plain": [
       "<matplotlib.axes._subplots.AxesSubplot at 0x7feb6be66d90>"
      ]
     },
     "execution_count": 11,
     "metadata": {},
     "output_type": "execute_result"
    },
    {
     "data": {
      "image/png": "[encoded data removed]",
      "text/plain": [
       "<Figure size 432x288 with 1 Axes>"
      ]
     },
     "metadata": {
      "needs_background": "light"
     },
     "output_type": "display_data"
    }
   ],
   "source": [
    "df['EG.ELC.ACCS.ZS'].plot(kind='bar') # this is the plot for the original data, just to compare to later"
   ]
  },
  {
   "cell_type": "code",
   "execution_count": 72,
   "metadata": {},
   "outputs": [
    {
     "data": {
      "text/plain": [
       "<matplotlib.axes._subplots.AxesSubplot at 0x7feb6dc06c90>"
      ]
     },
     "execution_count": 72,
     "metadata": {},
     "output_type": "execute_result"
    },
    {
     "data": {
      "image/png": "[encoded data removed]",
      "text/plain": [
       "<Figure size 432x288 with 1 Axes>"
      ]
     },
     "metadata": {
      "needs_background": "light"
     },
     "output_type": "display_data"
    }
   ],
   "source": [
    "# scale the data and show the plot--you can see it's the same as above, just different (wait for it) scale\n",
    "\n",
    "column_three = df.loc[:,['EG.ELC.ACCS.ZS']]\n",
    "column_three.head()\n",
    "\n",
    "min_max_scaler = preprocessing.MinMaxScaler()\n",
    "x_scaled = min_max_scaler.fit_transform(column_three)\n",
    "\n",
    "dataset = pd.DataFrame(x_scaled)\n",
    "dataset.head()\n",
    "dataset.plot(kind='bar')\n"
   ]
  },
  {
   "cell_type": "code",
   "execution_count": 101,
   "metadata": {},
   "outputs": [
    {
     "data": {
      "text/plain": [
       "<matplotlib.axes._subplots.AxesSubplot at 0x7feb6deb3290>"
      ]
     },
     "execution_count": 101,
     "metadata": {},
     "output_type": "execute_result"
    },
    {
     "data": {
      "image/png": "[encoded data removed]",
      "text/plain": [
       "<Figure size 432x288 with 1 Axes>"
      ]
     },
     "metadata": {
      "needs_background": "light"
     },
     "output_type": "display_data"
    }
   ],
   "source": [
    "# from the countries dataset, standardize the sp... column and visualize the data\n",
    "\n",
    "spy_column = df.loc[:,['SP.DYN.CBRT.IN']]\n",
    "spy_column\n",
    "\n",
    "scaler = StandardScaler()\n",
    "stand_X = preprocessing.scale(spy_column)\n",
    "\n",
    "data = pd.DataFrame(stand_X)\n",
    "data.head()\n",
    "data.plot(kind='bar')"
   ]
  },
  {
   "cell_type": "code",
   "execution_count": null,
   "metadata": {},
   "outputs": [],
   "source": []
  }
 ],
 "metadata": {
  "kernelspec": {
   "display_name": "Python 3",
   "language": "python",
   "name": "python3"
  },
  "language_info": {
   "codemirror_mode": {
    "name": "ipython",
    "version": 3
   },
   "file_extension": ".py",
   "mimetype": "text/x-python",
   "name": "python",
   "nbconvert_exporter": "python",
   "pygments_lexer": "ipython3",
   "version": "3.7.6"
  }
 },
 "nbformat": 4,
 "nbformat_minor": 4
}
