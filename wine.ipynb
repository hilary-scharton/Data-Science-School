{
 "cells": [
  {
   "cell_type": "code",
   "execution_count": 8,
   "metadata": {},
   "outputs": [
    {
     "name": "stdout",
     "output_type": "stream",
     "text": [
      "Collecting package metadata (current_repodata.json): done\n",
      "Solving environment: done\n",
      "\n",
      "## Package Plan ##\n",
      "\n",
      "  environment location: /opt/anaconda3\n",
      "\n",
      "  added / updated specs:\n",
      "    - wordcloud\n",
      "\n",
      "\n",
      "The following packages will be downloaded:\n",
      "\n",
      "    package                    |            build\n",
      "    ---------------------------|-----------------\n",
      "    wordcloud-1.7.0            |   py37h9bfed18_1         173 KB  conda-forge\n",
      "    ------------------------------------------------------------\n",
      "                                           Total:         173 KB\n",
      "\n",
      "The following NEW packages will be INSTALLED:\n",
      "\n",
      "  wordcloud          conda-forge/osx-64::wordcloud-1.7.0-py37h9bfed18_1\n",
      "\n",
      "\n",
      "\n",
      "Downloading and Extracting Packages\n",
      "wordcloud-1.7.0      | 173 KB    | ##################################### | 100% \n",
      "Preparing transaction: done\n",
      "Verifying transaction: done\n",
      "Executing transaction: done\n",
      "\n",
      "Note: you may need to restart the kernel to use updated packages.\n"
     ]
    }
   ],
   "source": [
    "conda install -c conda-forge wordcloud"
   ]
  },
  {
   "cell_type": "code",
   "execution_count": 1,
   "metadata": {},
   "outputs": [
    {
     "data": {
      "text/html": [
       "<div>\n",
       "<style scoped>\n",
       "    .dataframe tbody tr th:only-of-type {\n",
       "        vertical-align: middle;\n",
       "    }\n",
       "\n",
       "    .dataframe tbody tr th {\n",
       "        vertical-align: top;\n",
       "    }\n",
       "\n",
       "    .dataframe thead th {\n",
       "        text-align: right;\n",
       "    }\n",
       "</style>\n",
       "<table border=\"1\" class=\"dataframe\">\n",
       "  <thead>\n",
       "    <tr style=\"text-align: right;\">\n",
       "      <th></th>\n",
       "      <th>ï»¿</th>\n",
       "      <th>country</th>\n",
       "      <th>description</th>\n",
       "      <th>designation</th>\n",
       "      <th>points</th>\n",
       "      <th>price</th>\n",
       "      <th>province</th>\n",
       "      <th>region_1</th>\n",
       "      <th>region_2</th>\n",
       "      <th>variety</th>\n",
       "      <th>winery</th>\n",
       "    </tr>\n",
       "  </thead>\n",
       "  <tbody>\n",
       "    <tr>\n",
       "      <th>0</th>\n",
       "      <td>0</td>\n",
       "      <td>US</td>\n",
       "      <td>This tremendous 100% varietal wine hails from ...</td>\n",
       "      <td>Martha's Vineyard</td>\n",
       "      <td>96</td>\n",
       "      <td>235.0</td>\n",
       "      <td>California</td>\n",
       "      <td>Napa Valley</td>\n",
       "      <td>Napa</td>\n",
       "      <td>Cabernet Sauvignon</td>\n",
       "      <td>Heitz</td>\n",
       "    </tr>\n",
       "    <tr>\n",
       "      <th>1</th>\n",
       "      <td>1</td>\n",
       "      <td>Spain</td>\n",
       "      <td>Ripe aromas of fig, blackberry and cassis are ...</td>\n",
       "      <td>Carodorum Selecciââ¥n Especial Reserva</td>\n",
       "      <td>96</td>\n",
       "      <td>110.0</td>\n",
       "      <td>Northern Spain</td>\n",
       "      <td>Toro</td>\n",
       "      <td>NaN</td>\n",
       "      <td>Tinta de Toro</td>\n",
       "      <td>Bodega Carmen Rodrââ guez</td>\n",
       "    </tr>\n",
       "    <tr>\n",
       "      <th>2</th>\n",
       "      <td>2</td>\n",
       "      <td>US</td>\n",
       "      <td>Mac Watson honors the memory of a wine once ma...</td>\n",
       "      <td>Special Selected Late Harvest</td>\n",
       "      <td>96</td>\n",
       "      <td>90.0</td>\n",
       "      <td>California</td>\n",
       "      <td>Knights Valley</td>\n",
       "      <td>Sonoma</td>\n",
       "      <td>Sauvignon Blanc</td>\n",
       "      <td>Macauley</td>\n",
       "    </tr>\n",
       "    <tr>\n",
       "      <th>3</th>\n",
       "      <td>3</td>\n",
       "      <td>US</td>\n",
       "      <td>This spent 20 months in 30% new French oak, an...</td>\n",
       "      <td>Reserve</td>\n",
       "      <td>96</td>\n",
       "      <td>65.0</td>\n",
       "      <td>Oregon</td>\n",
       "      <td>Willamette Valley</td>\n",
       "      <td>Willamette Valley</td>\n",
       "      <td>Pinot Noir</td>\n",
       "      <td>Ponzi</td>\n",
       "    </tr>\n",
       "    <tr>\n",
       "      <th>4</th>\n",
       "      <td>4</td>\n",
       "      <td>France</td>\n",
       "      <td>This is the top wine from La BâÂ©gude, named...</td>\n",
       "      <td>La BrâÂªlade</td>\n",
       "      <td>95</td>\n",
       "      <td>66.0</td>\n",
       "      <td>Provence</td>\n",
       "      <td>Bandol</td>\n",
       "      <td>NaN</td>\n",
       "      <td>Provence red blend</td>\n",
       "      <td>Domaine de la BâÂ©gude</td>\n",
       "    </tr>\n",
       "  </tbody>\n",
       "</table>\n",
       "</div>"
      ],
      "text/plain": [
       "   ï»¿ country                                        description  \\\n",
       "0    0      US  This tremendous 100% varietal wine hails from ...   \n",
       "1    1   Spain  Ripe aromas of fig, blackberry and cassis are ...   \n",
       "2    2      US  Mac Watson honors the memory of a wine once ma...   \n",
       "3    3      US  This spent 20 months in 30% new French oak, an...   \n",
       "4    4  France  This is the top wine from La BâÂ©gude, named...   \n",
       "\n",
       "                                 designation  points  price        province  \\\n",
       "0                          Martha's Vineyard      96  235.0      California   \n",
       "1  Carodorum Selecciââ¥n Especial Reserva      96  110.0  Northern Spain   \n",
       "2              Special Selected Late Harvest      96   90.0      California   \n",
       "3                                    Reserve      96   65.0          Oregon   \n",
       "4                             La BrâÂªlade      95   66.0        Provence   \n",
       "\n",
       "            region_1           region_2             variety  \\\n",
       "0        Napa Valley               Napa  Cabernet Sauvignon   \n",
       "1               Toro                NaN       Tinta de Toro   \n",
       "2     Knights Valley             Sonoma     Sauvignon Blanc   \n",
       "3  Willamette Valley  Willamette Valley          Pinot Noir   \n",
       "4             Bandol                NaN  Provence red blend   \n",
       "\n",
       "                         winery  \n",
       "0                         Heitz  \n",
       "1  Bodega Carmen Rodrââ guez  \n",
       "2                      Macauley  \n",
       "3                         Ponzi  \n",
       "4      Domaine de la BâÂ©gude  "
      ]
     },
     "execution_count": 1,
     "metadata": {},
     "output_type": "execute_result"
    }
   ],
   "source": [
    "# read in the wine.csv and do a short EDA.  then talk about imputation and do a couple of word clouds\n",
    "\n",
    "import pandas as pd\n",
    "import matplotlib.pyplot as plt\n",
    "%matplotlib inline\n",
    "import numpy as np\n",
    "from wordcloud import WordCloud\n",
    "\n",
    "df= pd.read_csv('wine.csv', encoding='unicode_escape')\n",
    "df.head()"
   ]
  },
  {
   "cell_type": "code",
   "execution_count": 2,
   "metadata": {},
   "outputs": [
    {
     "data": {
      "text/html": [
       "<div>\n",
       "<style scoped>\n",
       "    .dataframe tbody tr th:only-of-type {\n",
       "        vertical-align: middle;\n",
       "    }\n",
       "\n",
       "    .dataframe tbody tr th {\n",
       "        vertical-align: top;\n",
       "    }\n",
       "\n",
       "    .dataframe thead th {\n",
       "        text-align: right;\n",
       "    }\n",
       "</style>\n",
       "<table border=\"1\" class=\"dataframe\">\n",
       "  <thead>\n",
       "    <tr style=\"text-align: right;\">\n",
       "      <th></th>\n",
       "      <th>ï»¿</th>\n",
       "      <th>points</th>\n",
       "      <th>price</th>\n",
       "    </tr>\n",
       "  </thead>\n",
       "  <tbody>\n",
       "    <tr>\n",
       "      <th>count</th>\n",
       "      <td>1103.000000</td>\n",
       "      <td>1103.000000</td>\n",
       "      <td>1046.000000</td>\n",
       "    </tr>\n",
       "    <tr>\n",
       "      <th>mean</th>\n",
       "      <td>551.000000</td>\n",
       "      <td>89.701723</td>\n",
       "      <td>40.242830</td>\n",
       "    </tr>\n",
       "    <tr>\n",
       "      <th>std</th>\n",
       "      <td>318.552978</td>\n",
       "      <td>2.390405</td>\n",
       "      <td>32.588141</td>\n",
       "    </tr>\n",
       "    <tr>\n",
       "      <th>min</th>\n",
       "      <td>0.000000</td>\n",
       "      <td>85.000000</td>\n",
       "      <td>7.000000</td>\n",
       "    </tr>\n",
       "    <tr>\n",
       "      <th>25%</th>\n",
       "      <td>275.500000</td>\n",
       "      <td>88.000000</td>\n",
       "      <td>20.000000</td>\n",
       "    </tr>\n",
       "    <tr>\n",
       "      <th>50%</th>\n",
       "      <td>551.000000</td>\n",
       "      <td>90.000000</td>\n",
       "      <td>31.000000</td>\n",
       "    </tr>\n",
       "    <tr>\n",
       "      <th>75%</th>\n",
       "      <td>826.500000</td>\n",
       "      <td>91.000000</td>\n",
       "      <td>50.000000</td>\n",
       "    </tr>\n",
       "    <tr>\n",
       "      <th>max</th>\n",
       "      <td>1102.000000</td>\n",
       "      <td>96.000000</td>\n",
       "      <td>500.000000</td>\n",
       "    </tr>\n",
       "  </tbody>\n",
       "</table>\n",
       "</div>"
      ],
      "text/plain": [
       "               ï»¿       points        price\n",
       "count  1103.000000  1103.000000  1046.000000\n",
       "mean    551.000000    89.701723    40.242830\n",
       "std     318.552978     2.390405    32.588141\n",
       "min       0.000000    85.000000     7.000000\n",
       "25%     275.500000    88.000000    20.000000\n",
       "50%     551.000000    90.000000    31.000000\n",
       "75%     826.500000    91.000000    50.000000\n",
       "max    1102.000000    96.000000   500.000000"
      ]
     },
     "execution_count": 2,
     "metadata": {},
     "output_type": "execute_result"
    }
   ],
   "source": [
    "df.describe()"
   ]
  },
  {
   "cell_type": "code",
   "execution_count": 3,
   "metadata": {},
   "outputs": [
    {
     "name": "stdout",
     "output_type": "stream",
     "text": [
      "<class 'pandas.core.frame.DataFrame'>\n",
      "RangeIndex: 1103 entries, 0 to 1102\n",
      "Data columns (total 11 columns):\n",
      " #   Column       Non-Null Count  Dtype  \n",
      "---  ------       --------------  -----  \n",
      " 0   ï»¿          1103 non-null   int64  \n",
      " 1   country      1103 non-null   object \n",
      " 2   description  1103 non-null   object \n",
      " 3   designation  834 non-null    object \n",
      " 4   points       1103 non-null   int64  \n",
      " 5   price        1046 non-null   float64\n",
      " 6   province     1103 non-null   object \n",
      " 7   region_1     930 non-null    object \n",
      " 8   region_2     492 non-null    object \n",
      " 9   variety      1103 non-null   object \n",
      " 10  winery       1103 non-null   object \n",
      "dtypes: float64(1), int64(2), object(8)\n",
      "memory usage: 94.9+ KB\n"
     ]
    }
   ],
   "source": [
    "df.info()"
   ]
  },
  {
   "cell_type": "code",
   "execution_count": 4,
   "metadata": {},
   "outputs": [
    {
     "name": "stdout",
     "output_type": "stream",
     "text": [
      "US              504\n",
      "France          172\n",
      "Italy           163\n",
      "Portugal         70\n",
      "Spain            64\n",
      "Germany          27\n",
      "Argentina        25\n",
      "Chile            21\n",
      "South Africa     10\n",
      "Israel            8\n",
      "Greece            8\n",
      "Australia         6\n",
      "Canada            5\n",
      "Bulgaria          5\n",
      "Austria           4\n",
      "New Zealand       2\n",
      "Romania           2\n",
      "Croatia           2\n",
      "Hungary           2\n",
      "Slovenia          1\n",
      "Morocco           1\n",
      "Moldova           1\n",
      "Name: country, dtype: int64\n"
     ]
    }
   ],
   "source": [
    "# what countries is this wine coming from?\n",
    "\n",
    "countries = df['country'].value_counts()\n",
    "print(countries)"
   ]
  },
  {
   "cell_type": "code",
   "execution_count": 31,
   "metadata": {},
   "outputs": [
    {
     "name": "stdout",
     "output_type": "stream",
     "text": [
      "Pinot Noir            128\n",
      "Chardonnay            103\n",
      "Cabernet Sauvignon     89\n",
      "Red Blend              70\n",
      "Nebbiolo               54\n",
      "                     ... \n",
      "St. Laurent             1\n",
      "Petite Verdot           1\n",
      "Nero d'Avola            1\n",
      "Aglianico               1\n",
      "Ugni Blanc              1\n",
      "Name: variety, Length: 124, dtype: int64\n"
     ]
    }
   ],
   "source": [
    "# what varieties are people making?\n",
    "\n",
    "variety = df['variety'].value_counts()\n",
    "print(variety)"
   ]
  },
  {
   "cell_type": "code",
   "execution_count": 32,
   "metadata": {},
   "outputs": [
    {
     "data": {
      "image/png": "[encoded data removed]",
      "text/plain": [
       "<Figure size 432x288 with 1 Axes>"
      ]
     },
     "metadata": {
      "needs_background": "light"
     },
     "output_type": "display_data"
    }
   ],
   "source": [
    "# what do prices look like?\n",
    "\n",
    "price = df.price\n",
    "price.plot.hist(grid=True, bins=50, rwidth=0.5)\n",
    "plt.xlabel('Price')\n",
    "plt.show()"
   ]
  },
  {
   "cell_type": "code",
   "execution_count": 33,
   "metadata": {},
   "outputs": [
    {
     "data": {
      "image/png": "[encoded data removed]",
      "text/plain": [
       "<Figure size 432x288 with 1 Axes>"
      ]
     },
     "metadata": {
      "needs_background": "light"
     },
     "output_type": "display_data"
    }
   ],
   "source": [
    "# what's the range of points look like?\n",
    "\n",
    "points = df.points\n",
    "points.plot.hist(grid=True, bins=50, rwidth=1)\n",
    "plt.xlabel('Points')\n",
    "plt.show()"
   ]
  },
  {
   "cell_type": "code",
   "execution_count": 34,
   "metadata": {},
   "outputs": [
    {
     "name": "stdout",
     "output_type": "stream",
     "text": [
      "country\n",
      "New Zealand     94.000000\n",
      "Austria         93.000000\n",
      "Morocco         93.000000\n",
      "Hungary         91.000000\n",
      "Germany         90.518519\n",
      "Canada          90.400000\n",
      "Slovenia        90.000000\n",
      "Moldova         90.000000\n",
      "Spain           89.984375\n",
      "US              89.916667\n",
      "Italy           89.815951\n",
      "Chile           89.761905\n",
      "France          89.563953\n",
      "Australia       89.500000\n",
      "Greece          89.250000\n",
      "Israel          89.000000\n",
      "Portugal        88.985714\n",
      "Bulgaria        88.600000\n",
      "Croatia         88.000000\n",
      "Romania         88.000000\n",
      "Argentina       87.280000\n",
      "South Africa    85.400000\n",
      "Name: points, dtype: float64\n"
     ]
    }
   ],
   "source": [
    "# are there any countries that are awesome at wine?\n",
    "\n",
    "mean_points_by_country = df.groupby('country')['points'].mean()\n",
    "series = pd.Series(mean_points_by_country)\n",
    "descending = series.sort_values(ascending=False)\n",
    "print(descending)"
   ]
  },
  {
   "cell_type": "code",
   "execution_count": 5,
   "metadata": {},
   "outputs": [],
   "source": [
    "# would you impute?  if so, why?\n",
    "\n",
    "#it would depend on what i'm doing.  if i were going to use it to train an ML model, some can cope with it, while others\n",
    "#wouldn't.  \"region 2\" has the most missing values, so if that were important to me i'd probably extrapolate from the \n",
    "#\"region 1\" and \"winery\" columns and could probably get pretty close.  \n",
    "\n",
    "# perhaps i don't know enough about wine, but i don't think any of the missing data is all that important :)"
   ]
  },
  {
   "cell_type": "code",
   "execution_count": 9,
   "metadata": {},
   "outputs": [
    {
     "data": {
      "image/png": "[encoded data removed]",
      "text/plain": [
       "<Figure size 432x288 with 1 Axes>"
      ]
     },
     "metadata": {
      "needs_background": "light"
     },
     "output_type": "display_data"
    }
   ],
   "source": [
    "# word clouds for province and variety\n",
    "\n",
    "text = str(df.province.values)\n",
    "wordcloud = WordCloud().generate(text)\n",
    "\n",
    "plt.imshow(wordcloud, interpolation='bilinear')\n",
    "plt.show()\n",
    "\n"
   ]
  },
  {
   "cell_type": "code",
   "execution_count": 8,
   "metadata": {},
   "outputs": [
    {
     "data": {
      "image/png": "[encoded data removed]",
      "text/plain": [
       "<Figure size 432x288 with 1 Axes>"
      ]
     },
     "metadata": {
      "needs_background": "light"
     },
     "output_type": "display_data"
    }
   ],
   "source": [
    "text = str(df.variety.values)\n",
    "wordcloud = WordCloud().generate(text)\n",
    "\n",
    "plt.imshow(wordcloud, interpolation='bilinear')\n",
    "plt.show()"
   ]
  },
  {
   "cell_type": "code",
   "execution_count": null,
   "metadata": {},
   "outputs": [],
   "source": []
  }
 ],
 "metadata": {
  "kernelspec": {
   "display_name": "Python 3",
   "language": "python",
   "name": "python3"
  },
  "language_info": {
   "codemirror_mode": {
    "name": "ipython",
    "version": 3
   },
   "file_extension": ".py",
   "mimetype": "text/x-python",
   "name": "python",
   "nbconvert_exporter": "python",
   "pygments_lexer": "ipython3",
   "version": "3.7.6"
  }
 },
 "nbformat": 4,
 "nbformat_minor": 4
}
